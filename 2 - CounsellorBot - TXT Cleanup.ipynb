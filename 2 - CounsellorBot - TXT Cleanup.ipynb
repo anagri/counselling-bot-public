{
 "cells": [
  {
   "cell_type": "code",
   "execution_count": null,
   "metadata": {},
   "outputs": [],
   "source": [
    "import os\n",
    "import sys\n",
    "import re\n",
    "import importlib.util"
   ]
  },
  {
   "cell_type": "code",
   "execution_count": null,
   "metadata": {
    "executionInfo": {
     "elapsed": 409,
     "status": "ok",
     "timestamp": 1648805475925,
     "user": {
      "displayName": "Amiruddin Nagri",
      "userId": "08625652760632192001"
     },
     "user_tz": -330
    },
    "id": "Z_RFfKtbaZO9"
   },
   "outputs": [],
   "source": [
    "# variables\n",
    "txts_path = \"/datasets/txts\" \n",
    "txts_cleaned_path = \"outputs/txts_cleaned\""
   ]
  },
  {
   "cell_type": "code",
   "execution_count": null,
   "metadata": {},
   "outputs": [],
   "source": [
    "!mkdir -p $txts_cleaned_path"
   ]
  },
  {
   "cell_type": "code",
   "execution_count": null,
   "metadata": {
    "colab": {
     "base_uri": "https://localhost:8080/"
    },
    "executionInfo": {
     "elapsed": 7,
     "status": "ok",
     "timestamp": 1648794826488,
     "user": {
      "displayName": "Amiruddin Nagri",
      "userId": "08625652760632192001"
     },
     "user_tz": -330
    },
    "id": "2FHuqmz32rO1",
    "outputId": "a8a4407a-0780-4cdf-a3fb-185307634854"
   },
   "outputs": [],
   "source": [
    "for txt_file in os.listdir(txts_path):\n",
    "    txt_path = f\"{txts_path}/{txt_file}\"\n",
    "    cleaned_file_path = f\"{txts_cleaned_path}/{txt_file}\"\n",
    "    inputs = \"\"\n",
    "    with open(txt_path) as infile:\n",
    "        inputs = infile.read()\n",
    "    inputs = inputs.split(\"\\n\\n\")\n",
    "    outputs = []\n",
    "    for input in inputs:\n",
    "        if not input or input.isspace():\n",
    "            continue\n",
    "        if re.match(\"^(BEGIN TRANSCRIPT:|END TRANSCRIPT)\", input):\n",
    "            outputs.append(input)\n",
    "            continue\n",
    "        if re.match(\"^https:\", input):\n",
    "            continue\n",
    "        if re.search(\"\\d{1,2}/\\d{1,2}/\\d{4}, \\d{1,2}:\\d{1,2}\", input):\n",
    "            continue\n",
    "        if re.match(\"^\\d+/\\d+\", input):\n",
    "            continue\n",
    "        input = input.replace(\"\\n\", \" \")\n",
    "        input = input.replace(\"(Pause):\", \" \")\n",
    "        input = re.sub(\"\\([^\\)]*\\)\", \" \", input)\n",
    "        input = re.sub(\"\\[[^\\]]*\\]\", \" \", input)\n",
    "        if re.match(\"^(CLIENT:|PATIENT:|CL:)\", input):\n",
    "            input = re.sub(\"^(CLIENT:|PATIENT:|CL:)\", \"CLIENT:\", input)\n",
    "            outputs.append(input)\n",
    "        elif re.match(\"^(THERAPIST:|COUNSELOR:|TL:)\", input):\n",
    "            input = re.sub(\"^(THERAPIST:|COUNSELOR:|TL:)\", \"THERAPIST:\", input)\n",
    "            outputs.append(input)\n",
    "        elif len(outputs) > 0:\n",
    "            last = outputs.pop()\n",
    "            last = last + \" \" + input\n",
    "            outputs.append(last)\n",
    "\n",
    "    output = \"\\n\".join(outputs)\n",
    "    with open(cleaned_file_path, \"w\") as outfile:\n",
    "        outfile.write(output)\n",
    "    print(f\"Cleaned up file {txt_file} and written\")"
   ]
  },
  {
   "cell_type": "code",
   "execution_count": null,
   "metadata": {},
   "outputs": [],
   "source": [
    "!ls $txts_cleaned_path"
   ]
  },
  {
   "cell_type": "code",
   "execution_count": null,
   "metadata": {},
   "outputs": [],
   "source": []
  }
 ],
 "metadata": {
  "accelerator": "GPU",
  "colab": {
   "authorship_tag": "ABX9TyMKAEFrjgaLZOLbPGnMSSqy",
   "collapsed_sections": [],
   "name": "CounsellingBot - TXT Cleanup",
   "provenance": [
    {
     "file_id": "1yCtkfF1s-GZ6LExZX_67P2x7MziLt0qx",
     "timestamp": 1648787750234
    },
    {
     "file_id": "1elyWypy4VAFJXu2HAGXrhZxj9VCkJvlY",
     "timestamp": 1648785081198
    },
    {
     "file_id": "1h5H_whhJqDD7btF9LxWpLBTjhnlYU5tv",
     "timestamp": 1647788613296
    }
   ]
  },
  "kernelspec": {
   "display_name": "Python 3 (ipykernel)",
   "language": "python",
   "name": "python3"
  },
  "language_info": {
   "codemirror_mode": {
    "name": "ipython",
    "version": 3
   },
   "file_extension": ".py",
   "mimetype": "text/x-python",
   "name": "python",
   "nbconvert_exporter": "python",
   "pygments_lexer": "ipython3",
   "version": "3.7.11"
  }
 },
 "nbformat": 4,
 "nbformat_minor": 1
}
