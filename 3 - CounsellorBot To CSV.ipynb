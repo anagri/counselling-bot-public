{
 "cells": [
  {
   "cell_type": "code",
   "execution_count": null,
   "metadata": {},
   "outputs": [],
   "source": [
    "import os\n",
    "import sys\n",
    "import importlib.util\n",
    "import pandas as pd\n",
    "import re"
   ]
  },
  {
   "cell_type": "code",
   "execution_count": null,
   "metadata": {
    "id": "pPYB9cRp1tbI"
   },
   "outputs": [],
   "source": [
    "txts_cleaned_path = \"/datasets/txts-cleaned\"\n",
    "csv_cleaned_path = \"outputs/csvs\""
   ]
  },
  {
   "cell_type": "code",
   "execution_count": null,
   "metadata": {},
   "outputs": [],
   "source": [
    "!mkdir -p $csv_cleaned_path"
   ]
  },
  {
   "cell_type": "code",
   "execution_count": null,
   "metadata": {
    "id": "A-dLJ2wIdOww"
   },
   "outputs": [],
   "source": [
    "# create a dataframe to populate and then generate csv\n",
    "dataset = pd.DataFrame(\n",
    "    columns=[\"filename\", \"case_number\", \"client_txt\", \"therapist_txt\"]\n",
    ")"
   ]
  },
  {
   "cell_type": "code",
   "execution_count": null,
   "metadata": {
    "id": "1Wh63z272Nle"
   },
   "outputs": [],
   "source": [
    "# loading the dataset from txt file\n",
    "def merge_convos(txts, prompt):\n",
    "    if len(txts) == 1:\n",
    "        return txts[0]\n",
    "    # remove all 'CLIENT: ' beginnings, merge all text with space and create new convo with 'CLIENT: ' prompt\n",
    "    convos = [txt.replace(prompt, \"\").strip() for txt in txts]\n",
    "    convos = \" \".join(convos)\n",
    "    convos = re.sub(\"\\n\", \" \", convos)\n",
    "    convos = prompt + convos\n",
    "    return convos\n",
    "\n",
    "\n",
    "for filename in os.listdir(txts_cleaned_path):\n",
    "    file_path = f\"{txts_cleaned_path}/{filename}\"\n",
    "    case_number = 0\n",
    "    with open(file_path, \"r\") as file:\n",
    "        client_record, therapist_record, client_txts, therapist_txts = (\n",
    "            False,\n",
    "            False,\n",
    "            [],\n",
    "            [],\n",
    "        )\n",
    "        for line in file:\n",
    "            line = line.replace(\"\\n\", \"\")\n",
    "            # print(line.encode('unicode_escape'))\n",
    "            if line == \"BEGIN TRANSCRIPT\":\n",
    "                case_number += 1\n",
    "                client_record, therapist_record, client_txts, therapist_txts = (\n",
    "                    False,\n",
    "                    False,\n",
    "                    [],\n",
    "                    [],\n",
    "                )\n",
    "                continue\n",
    "            if line == \"END TRANSCRIPT\":\n",
    "                continue\n",
    "            if re.match(\"^CLIENT: \", line):\n",
    "                # check if therapist reply recorded\n",
    "                if therapist_record:\n",
    "                    client_convos = merge_convos(client_txts, \"CLIENT: \")\n",
    "                    therapist_convos = merge_convos(therapist_txts, \"THERAPIST: \")\n",
    "                    dataset.loc[len(dataset)] = [\n",
    "                        filename,\n",
    "                        case_number,\n",
    "                        client_convos,\n",
    "                        therapist_convos,\n",
    "                    ]\n",
    "                    client_record, therapist_record, client_txts, therapist_txts = (\n",
    "                        False,\n",
    "                        False,\n",
    "                        [],\n",
    "                        [],\n",
    "                    )\n",
    "                client_record = True\n",
    "                client_txts.append(line)\n",
    "                continue\n",
    "            if re.match(\"^THERAPIST: \", line):\n",
    "                # ignore conversation by therapist unless client record started\n",
    "                if not client_record:\n",
    "                    continue\n",
    "                # register reply by therapist\n",
    "                therapist_record = True\n",
    "                therapist_txts.append(line)\n",
    "                continue"
   ]
  },
  {
   "cell_type": "code",
   "execution_count": null,
   "metadata": {
    "colab": {
     "base_uri": "https://localhost:8080/"
    },
    "executionInfo": {
     "elapsed": 413,
     "status": "ok",
     "timestamp": 1648806877155,
     "user": {
      "displayName": "Amiruddin Nagri",
      "userId": "08625652760632192001"
     },
     "user_tz": -330
    },
    "id": "sWzGLTgMjCPr",
    "outputId": "5e386576-1e16-488c-9bc3-42619360fa6e"
   },
   "outputs": [],
   "source": [
    "len(dataset)"
   ]
  },
  {
   "cell_type": "code",
   "execution_count": null,
   "metadata": {},
   "outputs": [],
   "source": [
    "dataset[0:30]"
   ]
  },
  {
   "cell_type": "code",
   "execution_count": null,
   "metadata": {
    "id": "dnSwXYNl2NpH"
   },
   "outputs": [],
   "source": [
    "dataset.to_csv(f\"{csv_cleaned_path}/data.csv\", index=False)"
   ]
  },
  {
   "cell_type": "code",
   "execution_count": null,
   "metadata": {},
   "outputs": [],
   "source": []
  }
 ],
 "metadata": {
  "accelerator": "GPU",
  "colab": {
   "authorship_tag": "ABX9TyPHSR3v+W5oAKZO5nwsMvfl",
   "collapsed_sections": [],
   "machine_shape": "hm",
   "name": "CounsellingBot To CSV.ipynb",
   "provenance": []
  },
  "kernelspec": {
   "display_name": "Python 3 (ipykernel)",
   "language": "python",
   "name": "python3"
  },
  "language_info": {
   "codemirror_mode": {
    "name": "ipython",
    "version": 3
   },
   "file_extension": ".py",
   "mimetype": "text/x-python",
   "name": "python",
   "nbconvert_exporter": "python",
   "pygments_lexer": "ipython3",
   "version": "3.7.11"
  }
 },
 "nbformat": 4,
 "nbformat_minor": 4
}
