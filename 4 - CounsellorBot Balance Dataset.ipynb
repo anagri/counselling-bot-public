{
 "cells": [
  {
   "cell_type": "code",
   "execution_count": 1,
   "id": "75702a41",
   "metadata": {},
   "outputs": [
    {
     "name": "stderr",
     "output_type": "stream",
     "text": [
      "`fused_weight_gradient_mlp_cuda` module not found. gradient accumulation fusion with weight gradient computation disabled.\n"
     ]
    }
   ],
   "source": [
    "import os\n",
    "import sys\n",
    "import json\n",
    "import time\n",
    "import logging\n",
    "import random\n",
    "import re\n",
    "import nltk\n",
    "from nltk.tokenize import sent_tokenize\n",
    "\n",
    "import pandas as pd\n",
    "import numpy as np\n",
    "import torch\n",
    "from torch.utils.data import Dataset, DataLoader\n",
    "import pytorch_lightning as pl\n",
    "from sklearn.model_selection import train_test_split\n",
    "\n",
    "\n",
    "from transformers import (\n",
    "    AdamW,\n",
    "    T5ForConditionalGeneration,\n",
    "    T5Tokenizer,\n",
    "    get_linear_schedule_with_warmup,\n",
    ")"
   ]
  },
  {
   "cell_type": "code",
   "execution_count": 2,
   "id": "f77bec4e",
   "metadata": {},
   "outputs": [],
   "source": [
    "nb_path = \"/storage\"\n",
    "csvs_path = \"/datasets/transcript-csvs\"\n",
    "\n",
    "outputs = \"outputs\"\n",
    "tmp_csvs_path = f\"{outputs}/csvs\"\n",
    "data_csv = f\"{csvs_path}/data.csv\"\n",
    "train_csv = f\"{tmp_csvs_path}/train.csv\"\n",
    "test_csv = f\"{tmp_csvs_path}/test.csv\"\n",
    "\n",
    "checkpoint_path = f\"{outputs}/checkpoint\"\n",
    "model_path = f\"{outputs}/model\"\n",
    "result_path = f\"{outputs}/trimmed\"\n",
    "result_file_path = f\"{result_path}/trimmed.csv\""
   ]
  },
  {
   "cell_type": "code",
   "execution_count": 3,
   "id": "6f243a52",
   "metadata": {},
   "outputs": [],
   "source": [
    "!rm -rf $result_path && mkdir -p $result_path"
   ]
  },
  {
   "cell_type": "code",
   "execution_count": 4,
   "id": "d3106df3",
   "metadata": {},
   "outputs": [],
   "source": [
    "df = pd.read_csv(data_csv)"
   ]
  },
  {
   "cell_type": "code",
   "execution_count": 5,
   "id": "d24e4480",
   "metadata": {},
   "outputs": [
    {
     "data": {
      "text/plain": [
       "THERAPIST: Yeah.                683\n",
       "THERAPIST: Okay.                592\n",
       "THERAPIST: Mmm hmm.             404\n",
       "THERAPIST: Right.               353\n",
       "THERAPIST: Sure.                158\n",
       "THERAPIST:                       97\n",
       "THERAPIST: Uh huh.               95\n",
       "THERAPIST: Um hmm.               77\n",
       "THERAPIST: Yes.                  74\n",
       "THERAPIST: Yea.                  68\n",
       "THERAPIST: Mm-hmm.               59\n",
       "THERAPIST: Um hm.                58\n",
       "THERAPIST: Um hum.               58\n",
       "THERAPIST: Oh.                   57\n",
       "THERAPIST: Mm.                   35\n",
       "THERAPIST: I see.                34\n",
       "THERAPIST: Oh, okay.             27\n",
       "THERAPIST: Yeah.                 25\n",
       "THERAPIST: Yeah?                 25\n",
       "THERAPIST: Uh-huh.               22\n",
       "THERAPIST:                       20\n",
       "THERAPIST: Um-hum.               20\n",
       "THERAPIST: No.                   20\n",
       "THERAPIST: Uh hmm.               19\n",
       "THERAPIST: Yeah. Yeah.           18\n",
       "THERAPIST: OK.                   18\n",
       "THERAPIST:  .                    18\n",
       "THERAPIST: Wow.                  18\n",
       "THERAPIST: Right.                17\n",
       "THERAPIST: What do you mean?     16\n",
       "THERAPIST: What?                 15\n",
       "THERAPIST:  ...                  15\n",
       "THERAPIST: Okay. Okay.           13\n",
       "THERAPIST: No?                   13\n",
       "THERAPIST: Hmm.                  12\n",
       "THERAPIST: Why?                  12\n",
       "THERAPIST: Good.                 11\n",
       "THERAPIST: Uh huh. Uh huh.       11\n",
       "THERAPIST: Yea, yea.             10\n",
       "THERAPIST: Ok.                   10\n",
       "Name: therapist_txt, dtype: int64"
      ]
     },
     "execution_count": 5,
     "metadata": {},
     "output_type": "execute_result"
    }
   ],
   "source": [
    "df['therapist_txt'].value_counts()[0:40]"
   ]
  },
  {
   "cell_type": "code",
   "execution_count": 6,
   "id": "33f68d01",
   "metadata": {},
   "outputs": [],
   "source": [
    "df['therapist_normalized'] = df['therapist_txt'].str.lower()"
   ]
  },
  {
   "cell_type": "code",
   "execution_count": 7,
   "id": "2327b3be",
   "metadata": {},
   "outputs": [],
   "source": [
    "df['therapist_normalized'] = df['therapist_normalized'].str.strip()"
   ]
  },
  {
   "cell_type": "code",
   "execution_count": 8,
   "id": "e423edaa",
   "metadata": {},
   "outputs": [],
   "source": [
    "df['therapist_normalized'] = df['therapist_normalized'].str.replace(\"\\.$\", \"\", regex=True)"
   ]
  },
  {
   "cell_type": "code",
   "execution_count": 9,
   "id": "d016873e",
   "metadata": {},
   "outputs": [],
   "source": [
    "df['therapist_normalized'] = df['therapist_normalized'].str.strip()"
   ]
  },
  {
   "cell_type": "code",
   "execution_count": 10,
   "id": "bc99cf37",
   "metadata": {},
   "outputs": [],
   "source": [
    "df['therapist_normalized'] = df['therapist_normalized'].str.replace(\"^therapist: \\s+\", \"therapist: \", regex=True)"
   ]
  },
  {
   "cell_type": "code",
   "execution_count": 11,
   "id": "4fa2f94c",
   "metadata": {},
   "outputs": [],
   "source": [
    "def replace_patterns(df, patterns, value, prompt=\"therapist: \"):\n",
    "    result = \"|\".join(patterns)\n",
    "    result = f\"^{prompt}({result})$\"\n",
    "    return df.str.replace(result, f\"{prompt}{value}\", regex=True)"
   ]
  },
  {
   "cell_type": "code",
   "execution_count": 12,
   "id": "5eebee75",
   "metadata": {},
   "outputs": [],
   "source": [
    "hmm_patterns = [\n",
    "    \"hm\",\n",
    "    \"hmm\",\n",
    "    \"hmmm\",\n",
    "    \"huh\",\n",
    "    \"hum\",\n",
    "    \"mm hm\",\n",
    "    \"mm hmm\",\n",
    "    \"mm\",\n",
    "    \"mm-hmm mm-hmm\",\n",
    "    \"mm-hmm\",\n",
    "    \"mmhmm\",\n",
    "    \"mmm hmm\",\n",
    "    \"mmm\",\n",
    "    \"uh hm\",\n",
    "    \"uh hmm\",\n",
    "    \"uh huh uh huh\",\n",
    "    \"uh huh\",\n",
    "    \"uh huh\\. uh huh\",\n",
    "    \"uh-huh\",\n",
    "    \"um hm\",\n",
    "    \"um hmm\",\n",
    "    \"um hum um hum\",\n",
    "    \"um hum\",\n",
    "    \"um\",\n",
    "    \"um-hmm\",\n",
    "    \"um-hum\",\n",
    "    \"umm-hmm\",\n",
    "]"
   ]
  },
  {
   "cell_type": "code",
   "execution_count": 13,
   "id": "2f6d7b6b",
   "metadata": {},
   "outputs": [],
   "source": [
    "yes_patterns = [\n",
    "    \"oh yeah\",\n",
    "    \"yea\",\n",
    "    \"yea, yea\",\n",
    "    \"yea, yea, yea\",\n",
    "    \"yeah yeah\",\n",
    "    \"yeah\",\n",
    "    \"yeah, sure\",\n",
    "    \"yeah, yeah\",\n",
    "    \"yeah\\. yeah\",\n",
    "    \"yep\",\n",
    "    \"yes\",\n",
    "    \"yes, yes\",\n",
    "]"
   ]
  },
  {
   "cell_type": "code",
   "execution_count": 14,
   "id": "a8badf48",
   "metadata": {},
   "outputs": [],
   "source": [
    "df[\"therapist_normalized\"] = replace_patterns(\n",
    "    df[\"therapist_normalized\"], hmm_patterns, \"hmmm\"\n",
    ")"
   ]
  },
  {
   "cell_type": "code",
   "execution_count": 15,
   "id": "ee0eb269",
   "metadata": {},
   "outputs": [],
   "source": [
    "df[\"therapist_normalized\"] = replace_patterns(\n",
    "    df[\"therapist_normalized\"], yes_patterns, \"yeah\"\n",
    ")"
   ]
  },
  {
   "cell_type": "code",
   "execution_count": 16,
   "id": "7bb37712",
   "metadata": {},
   "outputs": [
    {
     "data": {
      "text/plain": [
       "therapist: hmmm                 963\n",
       "therapist: yeah                 936\n",
       "therapist: okay                 607\n",
       "therapist: right                373\n",
       "therapist: sure                 162\n",
       "therapist:                      146\n",
       "therapist: oh                    57\n",
       "therapist: i see                 34\n",
       "therapist: ok                    33\n",
       "therapist: oh, okay              29\n",
       "therapist: yeah?                 25\n",
       "therapist: no                    22\n",
       "therapist: wow                   20\n",
       "therapist: ..                    17\n",
       "therapist: what?                 16\n",
       "therapist: what do you mean?     16\n",
       "therapist: no?                   13\n",
       "therapist: okay. okay            13\n",
       "therapist: why?                  12\n",
       "therapist: really?               11\n",
       "therapist: good                  11\n",
       "therapist: absolutely            10\n",
       "therapist: is that right?         9\n",
       "therapist: what's that?           9\n",
       "therapist: interesting            9\n",
       "therapist: okay?                  9\n",
       "therapist: i know                 8\n",
       "therapist: huh?                   8\n",
       "therapist: how so?                8\n",
       "therapist: all right              8\n",
       "therapist: why not?               7\n",
       "therapist: i don't know           7\n",
       "therapist: right. right           7\n",
       "therapist: really                 7\n",
       "therapist: um hum. um hum         7\n",
       "therapist: i see, yeah            7\n",
       "therapist: well                   7\n",
       "therapist: yeah, right            7\n",
       "therapist: ?                      7\n",
       "therapist: so..                   7\n",
       "Name: therapist_normalized, dtype: int64"
      ]
     },
     "execution_count": 16,
     "metadata": {},
     "output_type": "execute_result"
    }
   ],
   "source": [
    "df['therapist_normalized'].value_counts()[0:40]"
   ]
  },
  {
   "cell_type": "code",
   "execution_count": 17,
   "id": "109b1c66",
   "metadata": {},
   "outputs": [],
   "source": [
    "df['therapist_selected'] = True"
   ]
  },
  {
   "cell_type": "code",
   "execution_count": 18,
   "id": "be259a5a",
   "metadata": {},
   "outputs": [],
   "source": [
    "df_therapist = df['therapist_normalized'].value_counts().rename_axis('txts').reset_index(name='counts')"
   ]
  },
  {
   "cell_type": "code",
   "execution_count": 19,
   "id": "3478658b",
   "metadata": {},
   "outputs": [],
   "source": [
    "df_therapist = df_therapist[df_therapist['counts'].gt(10)]"
   ]
  },
  {
   "cell_type": "code",
   "execution_count": 20,
   "id": "0ca234fd",
   "metadata": {},
   "outputs": [
    {
     "data": {
      "text/html": [
       "<div>\n",
       "<style scoped>\n",
       "    .dataframe tbody tr th:only-of-type {\n",
       "        vertical-align: middle;\n",
       "    }\n",
       "\n",
       "    .dataframe tbody tr th {\n",
       "        vertical-align: top;\n",
       "    }\n",
       "\n",
       "    .dataframe thead th {\n",
       "        text-align: right;\n",
       "    }\n",
       "</style>\n",
       "<table border=\"1\" class=\"dataframe\">\n",
       "  <thead>\n",
       "    <tr style=\"text-align: right;\">\n",
       "      <th></th>\n",
       "      <th>txts</th>\n",
       "      <th>counts</th>\n",
       "    </tr>\n",
       "  </thead>\n",
       "  <tbody>\n",
       "    <tr>\n",
       "      <th>0</th>\n",
       "      <td>therapist: hmmm</td>\n",
       "      <td>963</td>\n",
       "    </tr>\n",
       "    <tr>\n",
       "      <th>1</th>\n",
       "      <td>therapist: yeah</td>\n",
       "      <td>936</td>\n",
       "    </tr>\n",
       "    <tr>\n",
       "      <th>2</th>\n",
       "      <td>therapist: okay</td>\n",
       "      <td>607</td>\n",
       "    </tr>\n",
       "    <tr>\n",
       "      <th>3</th>\n",
       "      <td>therapist: right</td>\n",
       "      <td>373</td>\n",
       "    </tr>\n",
       "    <tr>\n",
       "      <th>4</th>\n",
       "      <td>therapist: sure</td>\n",
       "      <td>162</td>\n",
       "    </tr>\n",
       "    <tr>\n",
       "      <th>5</th>\n",
       "      <td>therapist:</td>\n",
       "      <td>146</td>\n",
       "    </tr>\n",
       "    <tr>\n",
       "      <th>6</th>\n",
       "      <td>therapist: oh</td>\n",
       "      <td>57</td>\n",
       "    </tr>\n",
       "    <tr>\n",
       "      <th>7</th>\n",
       "      <td>therapist: i see</td>\n",
       "      <td>34</td>\n",
       "    </tr>\n",
       "    <tr>\n",
       "      <th>8</th>\n",
       "      <td>therapist: ok</td>\n",
       "      <td>33</td>\n",
       "    </tr>\n",
       "    <tr>\n",
       "      <th>9</th>\n",
       "      <td>therapist: oh, okay</td>\n",
       "      <td>29</td>\n",
       "    </tr>\n",
       "    <tr>\n",
       "      <th>10</th>\n",
       "      <td>therapist: yeah?</td>\n",
       "      <td>25</td>\n",
       "    </tr>\n",
       "    <tr>\n",
       "      <th>11</th>\n",
       "      <td>therapist: no</td>\n",
       "      <td>22</td>\n",
       "    </tr>\n",
       "    <tr>\n",
       "      <th>12</th>\n",
       "      <td>therapist: wow</td>\n",
       "      <td>20</td>\n",
       "    </tr>\n",
       "    <tr>\n",
       "      <th>13</th>\n",
       "      <td>therapist: ..</td>\n",
       "      <td>17</td>\n",
       "    </tr>\n",
       "    <tr>\n",
       "      <th>14</th>\n",
       "      <td>therapist: what?</td>\n",
       "      <td>16</td>\n",
       "    </tr>\n",
       "    <tr>\n",
       "      <th>15</th>\n",
       "      <td>therapist: what do you mean?</td>\n",
       "      <td>16</td>\n",
       "    </tr>\n",
       "    <tr>\n",
       "      <th>16</th>\n",
       "      <td>therapist: no?</td>\n",
       "      <td>13</td>\n",
       "    </tr>\n",
       "    <tr>\n",
       "      <th>17</th>\n",
       "      <td>therapist: okay. okay</td>\n",
       "      <td>13</td>\n",
       "    </tr>\n",
       "    <tr>\n",
       "      <th>18</th>\n",
       "      <td>therapist: why?</td>\n",
       "      <td>12</td>\n",
       "    </tr>\n",
       "    <tr>\n",
       "      <th>19</th>\n",
       "      <td>therapist: really?</td>\n",
       "      <td>11</td>\n",
       "    </tr>\n",
       "    <tr>\n",
       "      <th>20</th>\n",
       "      <td>therapist: good</td>\n",
       "      <td>11</td>\n",
       "    </tr>\n",
       "  </tbody>\n",
       "</table>\n",
       "</div>"
      ],
      "text/plain": [
       "                            txts  counts\n",
       "0                therapist: hmmm     963\n",
       "1                therapist: yeah     936\n",
       "2                therapist: okay     607\n",
       "3               therapist: right     373\n",
       "4                therapist: sure     162\n",
       "5                     therapist:     146\n",
       "6                  therapist: oh      57\n",
       "7               therapist: i see      34\n",
       "8                  therapist: ok      33\n",
       "9            therapist: oh, okay      29\n",
       "10              therapist: yeah?      25\n",
       "11                 therapist: no      22\n",
       "12                therapist: wow      20\n",
       "13                 therapist: ..      17\n",
       "14              therapist: what?      16\n",
       "15  therapist: what do you mean?      16\n",
       "16                therapist: no?      13\n",
       "17         therapist: okay. okay      13\n",
       "18               therapist: why?      12\n",
       "19            therapist: really?      11\n",
       "20               therapist: good      11"
      ]
     },
     "execution_count": 20,
     "metadata": {},
     "output_type": "execute_result"
    }
   ],
   "source": [
    "df_therapist"
   ]
  },
  {
   "cell_type": "code",
   "execution_count": 21,
   "id": "9cce82ba",
   "metadata": {},
   "outputs": [],
   "source": [
    "for i in range(len(df_therapist)):\n",
    "    txt = df_therapist.iloc[i]['txts']\n",
    "    matches = df[df['therapist_normalized'].str.fullmatch(re.escape(txt))]\n",
    "    matches_selected = matches.sample(n=10)\n",
    "    matches_dropped = matches.drop(matches_selected.index)\n",
    "    df.at[matches_dropped.index,'therapist_selected'] = False"
   ]
  },
  {
   "cell_type": "code",
   "execution_count": 22,
   "id": "f21ae585",
   "metadata": {},
   "outputs": [
    {
     "data": {
      "text/plain": [
       "therapist: no?                  10\n",
       "therapist: wow                  10\n",
       "therapist: hmmm                 10\n",
       "therapist: right                10\n",
       "therapist:                      10\n",
       "therapist: ..                   10\n",
       "therapist: oh, okay             10\n",
       "therapist: yeah?                10\n",
       "therapist: i see                10\n",
       "therapist: why?                 10\n",
       "therapist: what do you mean?    10\n",
       "therapist: ok                   10\n",
       "therapist: oh                   10\n",
       "therapist: really?              10\n",
       "therapist: sure                 10\n",
       "therapist: yeah                 10\n",
       "therapist: absolutely           10\n",
       "therapist: okay                 10\n",
       "therapist: good                 10\n",
       "therapist: no                   10\n",
       "therapist: what?                10\n",
       "therapist: okay. okay           10\n",
       "therapist: interesting           9\n",
       "therapist: what's that?          9\n",
       "therapist: okay?                 9\n",
       "therapist: is that right?        9\n",
       "therapist: how so?               8\n",
       "therapist: i know                8\n",
       "therapist: huh?                  8\n",
       "therapist: all right             8\n",
       "therapist: i don't know          7\n",
       "therapist: um hum. um hum        7\n",
       "therapist: ?                     7\n",
       "therapist: yeah, right           7\n",
       "therapist: right. right          7\n",
       "therapist: why not?              7\n",
       "therapist: really                7\n",
       "therapist: i see, yeah           7\n",
       "therapist: well                  7\n",
       "therapist: so..                  7\n",
       "Name: therapist_normalized, dtype: int64"
      ]
     },
     "execution_count": 22,
     "metadata": {},
     "output_type": "execute_result"
    }
   ],
   "source": [
    "df[df['therapist_selected'] == True]['therapist_normalized'].value_counts()[0:40]"
   ]
  },
  {
   "cell_type": "code",
   "execution_count": 23,
   "id": "812ced5e",
   "metadata": {},
   "outputs": [],
   "source": [
    "df['client_normalized'] = df['client_txt'].str.lower()"
   ]
  },
  {
   "cell_type": "code",
   "execution_count": 24,
   "id": "1208fa15",
   "metadata": {},
   "outputs": [],
   "source": [
    "df['client_normalized'] = df['client_normalized'].str.strip()"
   ]
  },
  {
   "cell_type": "code",
   "execution_count": 25,
   "id": "503f76b5",
   "metadata": {},
   "outputs": [],
   "source": [
    "df['client_normalized'] = df['client_normalized'].str.replace(\"\\.$\", \"\", regex=True)"
   ]
  },
  {
   "cell_type": "code",
   "execution_count": 26,
   "id": "26b3db2e",
   "metadata": {},
   "outputs": [],
   "source": [
    "df['client_normalized'] = df['client_normalized'].str.strip()"
   ]
  },
  {
   "cell_type": "code",
   "execution_count": 27,
   "id": "f4afdd25",
   "metadata": {},
   "outputs": [],
   "source": [
    "df['client_normalized'] = df['client_normalized'].str.replace(\"^client: \\s+\", \"client: \", regex=True)"
   ]
  },
  {
   "cell_type": "code",
   "execution_count": 28,
   "id": "68703417",
   "metadata": {},
   "outputs": [],
   "source": [
    "df[\"client_normalized\"] = replace_patterns(\n",
    "    df[\"client_normalized\"], hmm_patterns, \"hmmm\", prompt=\"client: \"\n",
    ")\n",
    "df[\"client_normalized\"] = replace_patterns(\n",
    "    df[\"client_normalized\"], yes_patterns, \"yeah\", prompt=\"client: \"\n",
    ")"
   ]
  },
  {
   "cell_type": "code",
   "execution_count": 29,
   "id": "7dd8886e",
   "metadata": {},
   "outputs": [],
   "source": [
    "df['client_selected'] = True"
   ]
  },
  {
   "cell_type": "code",
   "execution_count": 30,
   "id": "820ec632",
   "metadata": {},
   "outputs": [],
   "source": [
    "df_client = df[df['therapist_selected'] == True]\n",
    "df_client = df_client['client_normalized'].value_counts().rename_axis('txts').reset_index(name='counts')"
   ]
  },
  {
   "cell_type": "code",
   "execution_count": 31,
   "id": "0c741c1e",
   "metadata": {},
   "outputs": [],
   "source": [
    "df_client = df_client[df_client['counts'].gt(10)]"
   ]
  },
  {
   "cell_type": "code",
   "execution_count": 32,
   "id": "b2d9616a",
   "metadata": {},
   "outputs": [],
   "source": [
    "for i in range(len(df_client)):\n",
    "    txt = df_client.iloc[i][\"txts\"]\n",
    "    matches = df[df[\"client_normalized\"].str.fullmatch(re.escape(txt))]\n",
    "    matches_selected = matches.sample(n=10)\n",
    "    matches_dropped = matches.drop(matches_selected.index)\n",
    "    df.at[matches_dropped.index, \"client_selected\"] = False"
   ]
  },
  {
   "cell_type": "code",
   "execution_count": 33,
   "id": "2058f916",
   "metadata": {},
   "outputs": [],
   "source": [
    "df_selected = df[(df['therapist_selected'] == True) & (df['client_selected'] == True)]"
   ]
  },
  {
   "cell_type": "code",
   "execution_count": 34,
   "id": "718d8f80",
   "metadata": {},
   "outputs": [
    {
     "data": {
      "text/plain": [
       "therapist: okay                         10\n",
       "therapist: sure                         10\n",
       "therapist: ok                           10\n",
       "therapist: hmmm                         10\n",
       "therapist: oh                           10\n",
       "therapist: oh, okay                     10\n",
       "therapist: what do you mean?            10\n",
       "therapist: i see                        10\n",
       "therapist: wow                          10\n",
       "therapist:                               9\n",
       "therapist: absolutely                    9\n",
       "therapist: why?                          9\n",
       "therapist: right                         9\n",
       "therapist: interesting                   9\n",
       "therapist: really?                       9\n",
       "therapist: good                          9\n",
       "therapist: no                            9\n",
       "therapist: okay. okay                    9\n",
       "therapist: is that right?                8\n",
       "therapist: yeah?                         8\n",
       "therapist: all right                     8\n",
       "therapist: ..                            8\n",
       "therapist: what?                         8\n",
       "therapist: what's that?                  8\n",
       "therapist: i know                        8\n",
       "therapist: how so?                       8\n",
       "therapist: yeah                          7\n",
       "therapist: yeah, right                   7\n",
       "therapist: huh?                          7\n",
       "therapist: really                        7\n",
       "therapist: ?                             7\n",
       "therapist: um hum. um hum                7\n",
       "therapist: i see, yeah                   7\n",
       "therapist: no?                           7\n",
       "therapist: so..                          7\n",
       "therapist: right. right                  7\n",
       "therapist: why not?                      6\n",
       "therapist: well                          6\n",
       "therapist: i don't know                  6\n",
       "therapist: what do you make of that?     5\n",
       "Name: therapist_normalized, dtype: int64"
      ]
     },
     "execution_count": 34,
     "metadata": {},
     "output_type": "execute_result"
    }
   ],
   "source": [
    "df_selected['therapist_normalized'].value_counts()[0:40]"
   ]
  },
  {
   "cell_type": "code",
   "execution_count": 35,
   "id": "dae014f2",
   "metadata": {},
   "outputs": [
    {
     "data": {
      "text/plain": [
       "client: all right                10\n",
       "client: really?                  10\n",
       "client: what?                    10\n",
       "client: thank you                10\n",
       "client: uh-hmm                   10\n",
       "client: no                       10\n",
       "client: so                       10\n",
       "client: ok                       10\n",
       "client: okay                     10\n",
       "client: oh, yeah                 10\n",
       "client: oh                       10\n",
       "client: hmmm                     10\n",
       "client: right                    10\n",
       "client: i know                   10\n",
       "client: sure                      9\n",
       "client: oh, okay                  9\n",
       "client: that's right              8\n",
       "client: right, right              8\n",
       "client: i don't know              8\n",
       "client: yeah                      8\n",
       "client:                           8\n",
       "client: exactly                   8\n",
       "client: so..                      8\n",
       "client: you know?                 8\n",
       "client: right. right              7\n",
       "client: well                      6\n",
       "client: oh!                       6\n",
       "client: alright                   6\n",
       "client: probably, yeah            6\n",
       "client: yeah!                     6\n",
       "client: and..                     6\n",
       "client: why?                      6\n",
       "client: maybe                     6\n",
       "client: yeah, right               6\n",
       "client: i think so                5\n",
       "client: it is                     5\n",
       "client: you know what i mean?     5\n",
       "client: great                     5\n",
       "client: deﬁnitely                 5\n",
       "client: i'm sorry                 5\n",
       "Name: client_normalized, dtype: int64"
      ]
     },
     "execution_count": 35,
     "metadata": {},
     "output_type": "execute_result"
    }
   ],
   "source": [
    "df_selected['client_normalized'].value_counts()[0:40]"
   ]
  },
  {
   "cell_type": "code",
   "execution_count": null,
   "id": "1c02053a",
   "metadata": {},
   "outputs": [],
   "source": [
    "df_selected.to_csv(\n",
    "    result_file_path,\n",
    "    index=False,\n",
    "    columns=[\"filename\", \"case_number\", \"client_txt\", \"therapist_txt\"],\n",
    ")"
   ]
  },
  {
   "cell_type": "code",
   "execution_count": null,
   "id": "d755555f",
   "metadata": {},
   "outputs": [],
   "source": []
  }
 ],
 "metadata": {
  "kernelspec": {
   "display_name": "Python 3 (ipykernel)",
   "language": "python",
   "name": "python3"
  },
  "language_info": {
   "codemirror_mode": {
    "name": "ipython",
    "version": 3
   },
   "file_extension": ".py",
   "mimetype": "text/x-python",
   "name": "python",
   "nbconvert_exporter": "python",
   "pygments_lexer": "ipython3",
   "version": "3.7.11"
  }
 },
 "nbformat": 4,
 "nbformat_minor": 5
}
