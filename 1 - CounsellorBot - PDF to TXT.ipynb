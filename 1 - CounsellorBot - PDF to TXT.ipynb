{
 "cells": [
  {
   "cell_type": "markdown",
   "metadata": {},
   "source": [
    "![Transformer Family](https://raw.githubusercontent.com/nlp-with-transformers/notebooks/58be147e721851716a3c4915d4f1d89b752a8c10/images/chapter03_transformers-compact.png)"
   ]
  },
  {
   "cell_type": "code",
   "execution_count": null,
   "metadata": {
    "execution": {
     "iopub.execute_input": "2022-04-06T11:33:26.719120Z",
     "iopub.status.busy": "2022-04-06T11:33:26.718803Z",
     "iopub.status.idle": "2022-04-06T11:33:26.790019Z",
     "shell.execute_reply": "2022-04-06T11:33:26.789146Z",
     "shell.execute_reply.started": "2022-04-06T11:33:26.719083Z"
    }
   },
   "outputs": [],
   "source": [
    "import os\n",
    "import sys\n",
    "import re\n",
    "import importlib.util\n",
    "from pdfminer.high_level import extract_text"
   ]
  },
  {
   "cell_type": "code",
   "execution_count": null,
   "metadata": {
    "execution": {
     "iopub.execute_input": "2022-04-06T11:33:30.776506Z",
     "iopub.status.busy": "2022-04-06T11:33:30.776022Z",
     "iopub.status.idle": "2022-04-06T11:33:31.208075Z",
     "shell.execute_reply": "2022-04-06T11:33:31.207003Z",
     "shell.execute_reply.started": "2022-04-06T11:33:30.776456Z"
    },
    "executionInfo": {
     "elapsed": 7,
     "status": "ok",
     "timestamp": 1648791444063,
     "user": {
      "displayName": "Amiruddin Nagri",
      "userId": "08625652760632192001"
     },
     "user_tz": -330
    },
    "id": "z9f5b4h4oBHL"
   },
   "outputs": [],
   "source": [
    "# variables\n",
    "data_path = '/datasets/pdf-transcripts'\n",
    "txts_path = '/notebooks/outputs/txts'\n",
    "\n",
    "!mkdir -p $txts_path"
   ]
  },
  {
   "cell_type": "code",
   "execution_count": null,
   "metadata": {
    "colab": {
     "base_uri": "https://localhost:8080/"
    },
    "execution": {
     "iopub.execute_input": "2022-04-06T11:33:35.904417Z",
     "iopub.status.busy": "2022-04-06T11:33:35.904006Z",
     "iopub.status.idle": "2022-04-06T11:37:28.531147Z",
     "shell.execute_reply": "2022-04-06T11:37:28.530065Z",
     "shell.execute_reply.started": "2022-04-06T11:33:35.904373Z"
    },
    "executionInfo": {
     "elapsed": 70420,
     "status": "ok",
     "timestamp": 1648791538737,
     "user": {
      "displayName": "Amiruddin Nagri",
      "userId": "08625652760632192001"
     },
     "user_tz": -330
    },
    "id": "2FHuqmz32rO1",
    "outputId": "c91728ba-9890-4907-db07-27b7358103a6"
   },
   "outputs": [],
   "source": [
    "for file_path in os.listdir(data_path):\n",
    "    txt_file = file_path.replace(\".pdf\", \".txt\")\n",
    "    txt_path = f\"{txts_path}/{txt_file}\"\n",
    "    with open(txt_path, \"w\") as f:\n",
    "        print(f\"Parsing {file_path} and exporting to {txt_file}\")\n",
    "        txt = extract_text(f\"{data_path}/{file_path}\")\n"
   ]
  },
  {
   "cell_type": "code",
   "execution_count": null,
   "metadata": {},
   "outputs": [],
   "source": [
    "!ls /notebooks/outputs/txts"
   ]
  },
  {
   "cell_type": "code",
   "execution_count": null,
   "metadata": {},
   "outputs": [],
   "source": []
  }
 ],
 "metadata": {
  "accelerator": "GPU",
  "colab": {
   "authorship_tag": "ABX9TyMDpfO5aAhILJh/u+beXpZ2",
   "collapsed_sections": [],
   "name": "CounsellingBot - PDF to TXT",
   "provenance": [
    {
     "file_id": "1elyWypy4VAFJXu2HAGXrhZxj9VCkJvlY",
     "timestamp": 1648785081198
    },
    {
     "file_id": "1h5H_whhJqDD7btF9LxWpLBTjhnlYU5tv",
     "timestamp": 1647788613296
    }
   ]
  },
  "kernelspec": {
   "display_name": "Python 3 (ipykernel)",
   "language": "python",
   "name": "python3"
  },
  "language_info": {
   "codemirror_mode": {
    "name": "ipython",
    "version": 3
   },
   "file_extension": ".py",
   "mimetype": "text/x-python",
   "name": "python",
   "nbconvert_exporter": "python",
   "pygments_lexer": "ipython3",
   "version": "3.7.11"
  }
 },
 "nbformat": 4,
 "nbformat_minor": 4
}
